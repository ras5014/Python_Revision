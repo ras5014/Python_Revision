{
  "nbformat": 4,
  "nbformat_minor": 0,
  "metadata": {
    "colab": {
      "provenance": [],
      "authorship_tag": "ABX9TyOq/0FCLInmjsgYBgkMTgQM",
      "include_colab_link": true
    },
    "kernelspec": {
      "name": "python3",
      "display_name": "Python 3"
    },
    "language_info": {
      "name": "python"
    }
  },
  "cells": [
    {
      "cell_type": "markdown",
      "metadata": {
        "id": "view-in-github",
        "colab_type": "text"
      },
      "source": [
        "<a href=\"https://colab.research.google.com/github/ras5014/Python_Revision/blob/main/Python_HandBook.ipynb\" target=\"_parent\"><img src=\"https://colab.research.google.com/assets/colab-badge.svg\" alt=\"Open In Colab\"/></a>"
      ]
    },
    {
      "cell_type": "markdown",
      "source": [
        "# Python Handbook\n",
        "## 1. Rock, Paper, Scissor Game"
      ],
      "metadata": {
        "id": "rcs_hzS8C2sw"
      }
    },
    {
      "cell_type": "code",
      "source": [
        "import random\n",
        "\n",
        "def get_choices():\n",
        "  player_choice = input(\"Enter a choice (rock, paper, scissors): \")\n",
        "  options = [\"rock\", \"paper\", \"scissors\"]\n",
        "  computer_choice = random.choice(options)\n",
        "  choices = {\"player\": player_choice, \"computer\": computer_choice}\n",
        "  return choices\n",
        "\n",
        "def check_win(player, computer):\n",
        "  print(f\"You chose {player} | Computer chose {computer}\")\n",
        "\n",
        "  if player == computer:\n",
        "    return \"It's a tie\"\n",
        "  elif player == \"rock\":\n",
        "    if computer == \"scissors\":\n",
        "      return \"Rock smashes scissors! You win!\"\n",
        "    else:\n",
        "      return \"Paper covers rock! You lose\"\n",
        "  elif player == \"paper\":\n",
        "      if computer == \"rock\":\n",
        "          return \"Paper covers rock! You win!\"\n",
        "      else:\n",
        "          return \"Scissors cuts paper! You lose.\"\n",
        "  elif player == \"scissors\":\n",
        "      if computer == \"paper\":\n",
        "          return \"Scissors cuts paper! You win.\"\n",
        "      else:\n",
        "          return \"Rock smashes scissors! You lose.\"\n",
        "\n",
        "choices = get_choices()\n",
        "result = check_win(choices[\"player\"], choices[\"computer\"])\n",
        "print(result)\n"
      ],
      "metadata": {
        "colab": {
          "base_uri": "https://localhost:8080/"
        },
        "id": "8Z6ZZJ6eDHMX",
        "outputId": "2bf0bff3-49b6-4415-898e-30bda3e7e183"
      },
      "execution_count": 28,
      "outputs": [
        {
          "output_type": "stream",
          "name": "stdout",
          "text": [
            "Enter a choice (rock, paper, scissors): rock\n",
            "You chose rock | Computer chose rock\n",
            "It's a tie\n"
          ]
        }
      ]
    },
    {
      "cell_type": "markdown",
      "source": [
        "# **Basics Part-1**"
      ],
      "metadata": {
        "id": "Wn1BMTLqFJT0"
      }
    },
    {
      "cell_type": "code",
      "source": [
        "# To check type of variable\n",
        "name = \"ram\"\n",
        "print(type(name))\n",
        "\n",
        "age = 22\n",
        "print(isinstance(age, int))"
      ],
      "metadata": {
        "colab": {
          "base_uri": "https://localhost:8080/"
        },
        "id": "Zsx5K0P0E5yv",
        "outputId": "7805c75a-f0f2-4578-a68e-9d0e74675db6"
      },
      "execution_count": 29,
      "outputs": [
        {
          "output_type": "stream",
          "name": "stdout",
          "text": [
            "<class 'str'>\n",
            "True\n"
          ]
        }
      ]
    },
    {
      "cell_type": "code",
      "source": [
        "# Rounded Division\n",
        "print(5 // 2)\n",
        "# Power\n",
        "print(4 ** 2)"
      ],
      "metadata": {
        "colab": {
          "base_uri": "https://localhost:8080/"
        },
        "id": "J5bp-OQ_oC_R",
        "outputId": "28439bce-7ba0-455f-acf1-c8c87c4ba05a"
      },
      "execution_count": 30,
      "outputs": [
        {
          "output_type": "stream",
          "name": "stdout",
          "text": [
            "2\n",
            "16\n"
          ]
        }
      ]
    },
    {
      "cell_type": "code",
      "source": [
        "# Ternary operator\n",
        "age = 17\n",
        "result = True if age > 18 else False\n",
        "print(result)"
      ],
      "metadata": {
        "colab": {
          "base_uri": "https://localhost:8080/"
        },
        "id": "_3x0UzpO21iw",
        "outputId": "252e99b1-f36e-4d84-fb88-a268611d44a3"
      },
      "execution_count": 31,
      "outputs": [
        {
          "output_type": "stream",
          "name": "stdout",
          "text": [
            "False\n"
          ]
        }
      ]
    },
    {
      "cell_type": "code",
      "source": [
        "# Multi line string\n",
        "print(\"\"\"My name\n",
        "is Ramananda\n",
        "Samantaray\n",
        "\"\"\")"
      ],
      "metadata": {
        "colab": {
          "base_uri": "https://localhost:8080/"
        },
        "id": "k1LgWeQG3BMz",
        "outputId": "65ea4fa2-8251-476c-b48a-f37876c3df2c"
      },
      "execution_count": 32,
      "outputs": [
        {
          "output_type": "stream",
          "name": "stdout",
          "text": [
            "My name\n",
            "is Ramananda\n",
            "Samantaray\n",
            "\n"
          ]
        }
      ]
    },
    {
      "cell_type": "markdown",
      "source": [
        "## String Methods"
      ],
      "metadata": {
        "id": "1Tnqcqxj3Z1b"
      }
    },
    {
      "cell_type": "code",
      "source": [
        "# upper, lower, title(Only 1st letter capitalized)\n",
        "name = \"sam\"\n",
        "\n",
        "print(name.upper())\n",
        "print(name.lower())\n",
        "print(name.title())\n",
        "# All the above methods makes a new string, They don't change the original string"
      ],
      "metadata": {
        "colab": {
          "base_uri": "https://localhost:8080/"
        },
        "id": "RLGKLT-s3Mo0",
        "outputId": "92862f7b-eed0-4666-ccc2-482f806caae7"
      },
      "execution_count": 33,
      "outputs": [
        {
          "output_type": "stream",
          "name": "stdout",
          "text": [
            "SAM\n",
            "sam\n",
            "Sam\n"
          ]
        }
      ]
    },
    {
      "cell_type": "code",
      "source": [
        "# String Slicing\n",
        "print(name[-1]) # Returns the last character\n",
        "print(len(name))\n",
        "print(name[1:3]) # Index 1 to 2"
      ],
      "metadata": {
        "colab": {
          "base_uri": "https://localhost:8080/"
        },
        "id": "Xx3N73xV3-vr",
        "outputId": "382bd406-25dd-4c5e-e648-591bbe056bec"
      },
      "execution_count": 34,
      "outputs": [
        {
          "output_type": "stream",
          "name": "stdout",
          "text": [
            "m\n",
            "3\n",
            "am\n"
          ]
        }
      ]
    },
    {
      "cell_type": "code",
      "source": [
        "# any & all\n",
        "a1 = True\n",
        "a2 = False\n",
        "print(any([a1, a2])) # Any of a1 or a2 is True then returns True\n",
        "print(all([a1, a2])) # All of the variables have to True to return True"
      ],
      "metadata": {
        "colab": {
          "base_uri": "https://localhost:8080/"
        },
        "id": "fnFoLqAi4OFu",
        "outputId": "36586fcf-f390-41fe-f2af-3d978b04813d"
      },
      "execution_count": 35,
      "outputs": [
        {
          "output_type": "stream",
          "name": "stdout",
          "text": [
            "True\n",
            "False\n"
          ]
        }
      ]
    },
    {
      "cell_type": "markdown",
      "source": [
        "# **Basics Part-2**"
      ],
      "metadata": {
        "id": "XQZqOM_T4wlK"
      }
    },
    {
      "cell_type": "code",
      "source": [
        "# Two ways to declare complex numbers\n",
        "num1 = 2 + 3j\n",
        "num2 = complex(2, 3)\n",
        "\n",
        "print(num1.real, num1.imag)"
      ],
      "metadata": {
        "colab": {
          "base_uri": "https://localhost:8080/"
        },
        "id": "hnDIpUpS4bHX",
        "outputId": "567412ed-ac15-4416-e48f-3ac48d5bc3b3"
      },
      "execution_count": 36,
      "outputs": [
        {
          "output_type": "stream",
          "name": "stdout",
          "text": [
            "2.0 3.0\n"
          ]
        }
      ]
    },
    {
      "cell_type": "code",
      "source": [
        "# Absolute Value\n",
        "print(abs(-5.7)) # 5.7\n",
        "\n",
        "# Round\n",
        "print(round(5.5)) # 6\n",
        "print(round(5.4)) # 5\n",
        "print(round(5.34, 1)) # Round to 1 decimal point"
      ],
      "metadata": {
        "id": "I3LKbQNj5JeE",
        "colab": {
          "base_uri": "https://localhost:8080/"
        },
        "outputId": "9f1dd8d6-f082-434c-ff48-3aaf22d57a62"
      },
      "execution_count": 37,
      "outputs": [
        {
          "output_type": "stream",
          "name": "stdout",
          "text": [
            "5.7\n",
            "6\n",
            "5\n",
            "5.3\n"
          ]
        }
      ]
    },
    {
      "cell_type": "code",
      "source": [
        "# Lists (Multiple Data Types can be in one list)\n",
        "dogs = [\"Roger\", 1, \"Bob\", True]\n",
        "print(\"Bob\" in dogs) # Search in an list O(logn) Binary Search"
      ],
      "metadata": {
        "colab": {
          "base_uri": "https://localhost:8080/"
        },
        "id": "iS9iMp4stIC7",
        "outputId": "32c05b57-badd-4c24-b6ee-991f3e3d7c7c"
      },
      "execution_count": 38,
      "outputs": [
        {
          "output_type": "stream",
          "name": "stdout",
          "text": [
            "True\n"
          ]
        }
      ]
    },
    {
      "cell_type": "code",
      "source": [
        "# Slicing\n",
        "print(dogs[:2]) # Index o to 1"
      ],
      "metadata": {
        "colab": {
          "base_uri": "https://localhost:8080/"
        },
        "id": "x5cdKr1-tdDv",
        "outputId": "353ace96-7bd2-4027-816f-4339f2a6bc97"
      },
      "execution_count": 39,
      "outputs": [
        {
          "output_type": "stream",
          "name": "stdout",
          "text": [
            "['Roger', 1]\n"
          ]
        }
      ]
    },
    {
      "cell_type": "code",
      "source": [
        "# Extend or Combine list\n",
        "dogs.extend([\"ALice\", 7])\n",
        "print(dogs)"
      ],
      "metadata": {
        "colab": {
          "base_uri": "https://localhost:8080/"
        },
        "id": "2jnGtOnItupC",
        "outputId": "f1fae929-1898-4762-ef61-747130ab3842"
      },
      "execution_count": 40,
      "outputs": [
        {
          "output_type": "stream",
          "name": "stdout",
          "text": [
            "['Roger', 1, 'Bob', True, 'ALice', 7]\n"
          ]
        }
      ]
    },
    {
      "cell_type": "code",
      "source": [
        "# To remove any element\n",
        "dogs.remove(\"Bob\")\n",
        "print(dogs)"
      ],
      "metadata": {
        "colab": {
          "base_uri": "https://localhost:8080/"
        },
        "id": "wdg3ftjyvW8C",
        "outputId": "be094d4a-4161-4671-e2cc-42e2e1820259"
      },
      "execution_count": 41,
      "outputs": [
        {
          "output_type": "stream",
          "name": "stdout",
          "text": [
            "['Roger', 1, True, 'ALice', 7]\n"
          ]
        }
      ]
    },
    {
      "cell_type": "code",
      "source": [
        "# pop deletes the item from last and returns\n",
        "print(dogs.pop())\n",
        "print(dogs)"
      ],
      "metadata": {
        "colab": {
          "base_uri": "https://localhost:8080/"
        },
        "id": "njWHMCqzvhop",
        "outputId": "f0d5c823-21f4-456b-9b06-3e0d147f1bd0"
      },
      "execution_count": 42,
      "outputs": [
        {
          "output_type": "stream",
          "name": "stdout",
          "text": [
            "7\n",
            "['Roger', 1, True, 'ALice']\n"
          ]
        }
      ]
    }
  ]
}